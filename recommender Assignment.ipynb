{
 "metadata": {
  "name": "",
  "signature": "sha256:389215590a828867046d9d9aaae27656775df48141cb6fa794c2eeacefc00623"
 },
 "nbformat": 3,
 "nbformat_minor": 0,
 "worksheets": [
  {
   "cells": [
    {
     "cell_type": "code",
     "collapsed": false,
     "input": [
      "import pandas as pd\n",
      "import numpy as np"
     ],
     "language": "python",
     "metadata": {},
     "outputs": [],
     "prompt_number": 33
    },
    {
     "cell_type": "code",
     "collapsed": false,
     "input": [
      "M = pd.read_csv('MovieReviews.csv', index_col='Name')"
     ],
     "language": "python",
     "metadata": {},
     "outputs": [],
     "prompt_number": 17
    },
    {
     "cell_type": "code",
     "collapsed": false,
     "input": [
      "def pearson(s1, s2):\n",
      "    \"\"\"Take two pd.Series objects and return a pearson correlation.\"\"\"\n",
      "    s1_c = s1 - s1.mean()\n",
      "    s2_c = s2 - s2.mean()\n",
      "    return np.sum(s1_c * s2_c) / np.sqrt(np.sum(s1_c ** 2) * np.sum(s2_c ** 2))"
     ],
     "language": "python",
     "metadata": {},
     "outputs": [],
     "prompt_number": 18
    },
    {
     "cell_type": "code",
     "collapsed": false,
     "input": [
      "def get_recs(movie_name, M, num):\n",
      "\n",
      "    import numpy as np\n",
      "    reviews = []\n",
      "    for title in M.columns:\n",
      "        if title == movie_name:\n",
      "            continue\n",
      "        cor = pearson(M[movie_name], M[title])\n",
      "        if np.isnan(cor):\n",
      "            continue\n",
      "        else:\n",
      "            reviews.append((title, cor))\n",
      "    \n",
      "    reviews.sort(key=lambda tup: tup[1], reverse=True)\n",
      "    return reviews[:num]\n",
      "\n",
      "    "
     ],
     "language": "python",
     "metadata": {},
     "outputs": [],
     "prompt_number": 19
    },
    {
     "cell_type": "markdown",
     "metadata": {},
     "source": [
      "###Question 1:  What movie is most Similar to 'The fault in our stars' (60 pts)\n"
     ]
    },
    {
     "cell_type": "code",
     "collapsed": false,
     "input": [
      "recs = get_recs('The Fault in Our Stars', M, 10)\n",
      "recs[:2]"
     ],
     "language": "python",
     "metadata": {},
     "outputs": [
      {
       "metadata": {},
       "output_type": "pyout",
       "prompt_number": 20,
       "text": [
        "[('Transformers', 0.45574896698689149),\n",
        " ('The Hunger Games: Mockingjay - Part 1', 0.35345113364519332)]"
       ]
      }
     ],
     "prompt_number": 20
    },
    {
     "cell_type": "markdown",
     "metadata": {},
     "source": [
      "###Question 2:  Which movie(s) would you most like to see, based on your classmates experience? (40 pts)"
     ]
    },
    {
     "cell_type": "code",
     "collapsed": false,
     "input": [
      "#HINTS...\n",
      "\n",
      "#the movies I've seen\n",
      "my_ratings = M.ix['Akhilesh'].dropna()\n",
      "#the movie I've rated the highest\n",
      "my_ratings.sort(ascending=False)\n",
      "#the name of the movie I've rated the highest\n",
      "fav_movie = my_ratings.index[0]"
     ],
     "language": "python",
     "metadata": {},
     "outputs": [],
     "prompt_number": 22
    },
    {
     "cell_type": "code",
     "collapsed": false,
     "input": [
      "fav_movie"
     ],
     "language": "python",
     "metadata": {},
     "outputs": [
      {
       "metadata": {},
       "output_type": "pyout",
       "prompt_number": 42,
       "text": [
        "'300: Rise of an Empire'"
       ]
      }
     ],
     "prompt_number": 42
    },
    {
     "cell_type": "code",
     "collapsed": false,
     "input": [
      "my_ratings"
     ],
     "language": "python",
     "metadata": {},
     "outputs": [
      {
       "metadata": {},
       "output_type": "pyout",
       "prompt_number": 43,
       "text": [
        "300: Rise of an Empire     5\n",
        "Interstellar               5\n",
        "The Hobbit                 5\n",
        "Transformers               4\n",
        "Guardians of the Galaxy    4\n",
        "Gone Girl                  3\n",
        "The Lego Movie             3\n",
        "Name: Akhilesh, dtype: float64"
       ]
      }
     ],
     "prompt_number": 43
    },
    {
     "cell_type": "code",
     "collapsed": false,
     "input": [
      "recs = get_recs(fav_movie, M, 5)"
     ],
     "language": "python",
     "metadata": {},
     "outputs": [],
     "prompt_number": 53
    },
    {
     "cell_type": "code",
     "collapsed": false,
     "input": [
      "recs[:5]"
     ],
     "language": "python",
     "metadata": {},
     "outputs": [
      {
       "metadata": {},
       "output_type": "pyout",
       "prompt_number": 54,
       "text": [
        "[('How to Train your Dragon 2', 0.46969124070147988),\n",
        " ('American Sniper', 0.28787262506063988),\n",
        " ('The Hobbit', 0.26652300711906385),\n",
        " ('Divergent', 0.18190171877724975),\n",
        " ('The Fault in Our Stars', 0.15923097281413867)]"
       ]
      }
     ],
     "prompt_number": 54
    },
    {
     "cell_type": "markdown",
     "metadata": {},
     "source": [
      "###Question 3: Bonus Question...  For all the movies you haven't seen, can you predict how you'd rate them using your the class reviews? (10 pts)"
     ]
    },
    {
     "cell_type": "code",
     "collapsed": false,
     "input": [
      "not_rated = M.ix['Akhilesh']\n",
      "not_rated.sort()\n",
      "for i in range(0, not_rated.count(), 1):\n",
      "    not_rated.drop(not_rated.index[0], inplace=True)"
     ],
     "language": "python",
     "metadata": {},
     "outputs": [],
     "prompt_number": 47
    },
    {
     "cell_type": "code",
     "collapsed": false,
     "input": [
      "not_rated"
     ],
     "language": "python",
     "metadata": {},
     "outputs": [
      {
       "metadata": {},
       "output_type": "pyout",
       "prompt_number": 48,
       "text": [
        "American Sniper                         NaN\n",
        "The Hunger Games: Mockingjay - Part 1   NaN\n",
        "Malificent                              NaN\n",
        "Big Hero 6                              NaN\n",
        "Godzilla                                NaN\n",
        "How to Train your Dragon 2              NaN\n",
        "Divergent                               NaN\n",
        "The Fault in Our Stars                  NaN\n",
        "Unbroken                                NaN\n",
        "Name: Akhilesh, dtype: float64"
       ]
      }
     ],
     "prompt_number": 48
    },
    {
     "cell_type": "code",
     "collapsed": false,
     "input": [
      "print \"Pearson Correlation coefficient of :\"\n",
      "a= []\n",
      "for i in range(0, 23, 1): # as there are 23 rows(M.shape), range(0,23) \n",
      "    cor=pearson(M.ix[15], M.ix[i])\n",
      "    print \"(\" + M.index[15] + \" , \" + M.index[i] + \") :\", cor\n",
      "    a.append(cor)"
     ],
     "language": "python",
     "metadata": {},
     "outputs": [
      {
       "output_type": "stream",
       "stream": "stdout",
       "text": [
        "Pearson Correlation coefficient of :\n",
        "(Akhilesh , Mike) : -0.181923927644\n",
        "(Akhilesh , HJ SONG) : 0.220201480962\n",
        "(Akhilesh , Ryan Hansen) : 0.304166084241\n",
        "(Akhilesh , Olumuyiwa Durojaiye) : -0.213706439046\n",
        "(Akhilesh , Charlie) : 0.206913460559\n",
        "(Akhilesh , Sina Tuy) : -0.0224224264665\n",
        "(Akhilesh , Pavithra Shetty) : -0.0879483493118\n",
        "(Akhilesh , Sara Collins) : -0.0264628062012\n",
        "(Akhilesh , Jonathan Doll) : 0.294405621325\n",
        "(Akhilesh , saikiran reddy) : -0.115123317683\n",
        "(Akhilesh , Aishwarya reddy) : -0.180036010804\n",
        "(Akhilesh , Brant Mullinix) : 0.615638445183\n",
        "(Akhilesh , Sai Sampath) : -0.180036010804\n",
        "(Akhilesh , Suyendra) : 0.411241445096\n",
        "(Akhilesh , Sai Yallapragada) : 0.307896768687\n",
        "(Akhilesh , Akhilesh) : 1.0\n",
        "(Akhilesh , Sundar Prasad) : -0.21170244961\n",
        "(Akhilesh , Evan Piercy) : 0.177517900624\n",
        "(Akhilesh , Jessica Fong) : 0.260359587582\n",
        "(Akhilesh , Onsiri Tapsarn) : nan\n",
        "(Akhilesh , Anirudh Thota) : 0.280222667232\n",
        "(Akhilesh , Greg Werner) : -0.0351394312153\n",
        "(Akhilesh , Violeta Lee Fay) : -0.293155132188\n"
       ]
      }
     ],
     "prompt_number": 49
    },
    {
     "cell_type": "code",
     "collapsed": false,
     "input": [
      "def pred_rate(x, a):\n",
      "    \"\"\"\n",
      "    Takes two parameters 'x' and 'a'. \n",
      "    Where 'x' a list of rates given by classmates. \n",
      "    'a' is a array that has corresponding pearson correlation coefficientreturn (weights for the given rates).\n",
      "    predicted rate is calculated as rate= (x[0]*a[0] + x[1]*a[1] +...+x[i]*a[i]) / (a[0]+a[1]+..+a[i]) \n",
      "    returns predicted rate \n",
      "    \"\"\"\n",
      "    j=0\n",
      "    k=0\n",
      "    for i in range(0, 23, 1): # as there are 23 rows(x.shape), range(0,23) \n",
      "        if x.irow(i)>0 and a[i]>0: \n",
      "            j= j+(a[i]*x.irow(i))\n",
      "            k= k+a[i]\n",
      "        else:\n",
      "            continue\n",
      "    return j/k"
     ],
     "language": "python",
     "metadata": {},
     "outputs": [],
     "prompt_number": 50
    },
    {
     "cell_type": "code",
     "collapsed": false,
     "input": [
      "print \"Based on class reviews, the ratings for the movies that I did not watch:\"\n",
      "for i in range(0, 9, 1): # as there are 12 rows(not_rated.shape), range(0,12) \n",
      "    x=M[not_rated.index[i]]\n",
      "    rate=pred_rate(x, a)\n",
      "    print not_rated.index[i] +\": \", rate.round(1)"
     ],
     "language": "python",
     "metadata": {},
     "outputs": [
      {
       "output_type": "stream",
       "stream": "stdout",
       "text": [
        "Based on class reviews, the ratings for the movies that I did not watch:\n",
        "American Sniper:  4.6\n",
        "The Hunger Games: Mockingjay - Part 1:  3.1\n",
        "Malificent:  3.0\n",
        "Big Hero 6:  3.2\n",
        "Godzilla:  2.9\n",
        "How to Train your Dragon 2:  3.7\n",
        "Divergent:  3.0\n",
        "The Fault in Our Stars:  3.7\n",
        "Unbroken:  3.0\n"
       ]
      }
     ],
     "prompt_number": 51
    },
    {
     "cell_type": "code",
     "collapsed": false,
     "input": [],
     "language": "python",
     "metadata": {},
     "outputs": []
    }
   ],
   "metadata": {}
  }
 ]
}